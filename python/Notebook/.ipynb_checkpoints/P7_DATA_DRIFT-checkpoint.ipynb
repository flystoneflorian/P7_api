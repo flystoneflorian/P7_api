{
 "cells": [
  {
   "cell_type": "code",
   "execution_count": 1,
   "metadata": {},
   "outputs": [],
   "source": [
    "import os\n",
    "import pandas as pd\n",
    "import numpy as np\n",
    "from alibi_detect.cd import KSDrift"
   ]
  },
  {
   "cell_type": "code",
   "execution_count": 2,
   "metadata": {},
   "outputs": [],
   "source": [
    "# Chemin du projet\n",
    "project_path = \"/cygwin64/openclassrooms/Projet_7/\"\n",
    "\n",
    "# Changer le répertoire\n",
    "os.chdir(project_path)\n",
    "\n",
    "# Charger les données\n",
    "data_ref = pd.read_csv(\"data/application_train.csv\")\n",
    "data_test = pd.read_csv(\"data/application_test.csv\")\n",
    "\n"
   ]
  },
  {
   "cell_type": "code",
   "execution_count": 3,
   "metadata": {},
   "outputs": [],
   "source": [
    "# Exemple de codage One-Hot pour les caractéristiques catégorielles\n",
    "data_ref_encoded = pd.get_dummies(data_ref.drop(columns='TARGET'))\n",
    "data_test_encoded = pd.get_dummies(data_test)\n",
    "\n",
    "# Assurer que les deux jeux de données ont les mêmes colonnes\n",
    "data_ref_encoded, data_test_encoded = data_ref_encoded.align(data_test_encoded, join='inner', axis=1)"
   ]
  },
  {
   "cell_type": "code",
   "execution_count": 4,
   "metadata": {},
   "outputs": [],
   "source": [
    "data_ref_np = data_ref_encoded.to_numpy()\n",
    "data_test_np = data_test_encoded.to_numpy()"
   ]
  },
  {
   "cell_type": "code",
   "execution_count": 5,
   "metadata": {},
   "outputs": [],
   "source": [
    "# Initialiser le détecteur de dérive KS\n",
    "ks_drift = KSDrift(\n",
    "    data_ref_np,\n",
    "    p_val=0.05\n",
    ")"
   ]
  },
  {
   "cell_type": "code",
   "execution_count": 6,
   "metadata": {},
   "outputs": [
    {
     "name": "stderr",
     "output_type": "stream",
     "text": [
      "Directory data_drift does not exist and is now created.\n",
      "c:\\Users\\flori\\AppData\\Local\\Programs\\Python\\Python311\\Lib\\site-packages\\alibi_detect\\cd\\tabular.py:113: UserWarning: No `categories_per_feature` dict provided so all features are assumed to be numerical. `KSDrift` will be applied to all features.\n",
      "  warnings.warn('No `categories_per_feature` dict provided so all features are assumed to be numerical. '\n"
     ]
    }
   ],
   "source": [
    "# Détecter la dérive dans les nouvelles données\n",
    "drift_results = ks_drift.predict(data_test_np)\n",
    "\n",
    "# Créer un rapport Alibi Detect\n",
    "from alibi_detect.utils.saving import save_detector\n",
    "save_detector(ks_drift, 'data_drift')\n",
    "\n",
    "# Créer un rapport Alibi Detect\n",
    "from alibi_detect.cd import TabularDrift\n",
    "cd = TabularDrift(\n",
    "    x_ref = data_ref_np,\n",
    "    p_val=0.05,\n",
    ")\n",
    "# Détecter la dérive\n",
    "#drift_results = cd.predict(data_test_np)\n",
    "\n",
    "# Créer un rapport Alibi Detect\n",
    "#from alibi_detect.utils.saving import save_detector\n",
    "save_detector(cd, 'data_drift')\n"
   ]
  },
  {
   "cell_type": "code",
   "execution_count": 8,
   "metadata": {},
   "outputs": [
    {
     "name": "stderr",
     "output_type": "stream",
     "text": [
      "c:\\Users\\flori\\AppData\\Local\\Programs\\Python\\Python311\\Lib\\site-packages\\alibi_detect\\cd\\tabular.py:113: UserWarning: No `categories_per_feature` dict provided so all features are assumed to be numerical. `KSDrift` will be applied to all features.\n",
      "  warnings.warn('No `categories_per_feature` dict provided so all features are assumed to be numerical. '\n"
     ]
    },
    {
     "name": "stdout",
     "output_type": "stream",
     "text": [
      "Les résultats de dérive ont été sauvegardés en HTML à env/notebook/data_drift/drift_report.html\n"
     ]
    }
   ],
   "source": [
    "# Créer un rapport à partir du détecteur\n",
    "from alibi_detect.saving import load_detector\n",
    "loaded_cd = load_detector('data_drift')\n",
    "\n",
    "# Générer un rapport\n",
    "drift_report = loaded_cd.predict(data_test_np)\n",
    "\n",
    "# Convertir les résultats de dérive en DataFrame pour une meilleure visualisation\n",
    "drift_df = pd.DataFrame.from_dict(drift_report['data'], orient='index')\n",
    "drift_df.columns = ['Value']\n",
    "\n",
    "# Sauvegarder le DataFrame en HTML\n",
    "html_file_path = 'env/notebook/data_drift/drift_report.html'\n",
    "with open(html_file_path, 'w') as f:\n",
    "    f.write(drift_df.to_html())\n",
    "\n",
    "print(f\"Les résultats de dérive ont été sauvegardés en HTML à {html_file_path}\")"
   ]
  }
 ],
 "metadata": {
  "kernelspec": {
   "display_name": "Python 3 (ipykernel)",
   "language": "python",
   "name": "python3"
  },
  "language_info": {
   "codemirror_mode": {
    "name": "ipython",
    "version": 3
   },
   "file_extension": ".py",
   "mimetype": "text/x-python",
   "name": "python",
   "nbconvert_exporter": "python",
   "pygments_lexer": "ipython3",
   "version": "3.11.1"
  }
 },
 "nbformat": 4,
 "nbformat_minor": 2
}
